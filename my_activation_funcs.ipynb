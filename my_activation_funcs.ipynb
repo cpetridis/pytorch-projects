{
  "nbformat": 4,
  "nbformat_minor": 0,
  "metadata": {
    "colab": {
      "provenance": [],
      "authorship_tag": "ABX9TyPXjm3k63gBu63gJF96QP+T",
      "include_colab_link": true
    },
    "kernelspec": {
      "name": "python3",
      "display_name": "Python 3"
    },
    "language_info": {
      "name": "python"
    }
  },
  "cells": [
    {
      "cell_type": "markdown",
      "metadata": {
        "id": "view-in-github",
        "colab_type": "text"
      },
      "source": [
        "<a href=\"https://colab.research.google.com/github/cpetridis/pytorch-projects/blob/main/my_activation_funcs.ipynb\" target=\"_parent\"><img src=\"https://colab.research.google.com/assets/colab-badge.svg\" alt=\"Open In Colab\"/></a>"
      ]
    },
    {
      "cell_type": "code",
      "execution_count": 15,
      "metadata": {
        "colab": {
          "base_uri": "https://localhost:8080/"
        },
        "id": "wwcfyGIXRuyC",
        "outputId": "1c56d515-4c88-49ba-cf8d-d252197d4a1e"
      },
      "outputs": [
        {
          "output_type": "execute_result",
          "data": {
            "text/plain": [
              "tensor([-10.,  -9.,  -8.,  -7.,  -6.,  -5.,  -4.,  -3.,  -2.,  -1.,   0.,   1.,\n",
              "          2.,   3.,   4.,   5.,   6.,   7.,   8.,   9.])"
            ]
          },
          "metadata": {},
          "execution_count": 15
        }
      ],
      "source": [
        "from sklearn.datasets import make_circles\n",
        "import matplotlib.pyplot as plt\n",
        "import pandas as pd\n",
        "import torch\n",
        "\n",
        "# Let's try to create our own activation functions\n",
        "\n",
        "#First of all, we have to create a small amount of data\n",
        "\n",
        "A = torch.arange(-10, 10, 1, dtype = torch.float32)\n",
        "A"
      ]
    },
    {
      "cell_type": "code",
      "source": [
        "plt.plot(A)"
      ],
      "metadata": {
        "colab": {
          "base_uri": "https://localhost:8080/",
          "height": 283
        },
        "id": "V9Ryxqo3VRiT",
        "outputId": "49d640b1-a995-4d13-a7d8-84690119f8f5"
      },
      "execution_count": 16,
      "outputs": [
        {
          "output_type": "execute_result",
          "data": {
            "text/plain": [
              "[<matplotlib.lines.Line2D at 0x7f2d2be26160>]"
            ]
          },
          "metadata": {},
          "execution_count": 16
        },
        {
          "output_type": "display_data",
          "data": {
            "text/plain": [
              "<Figure size 432x288 with 1 Axes>"
            ],
            "image/png": "[encoded data removed]"
          },
          "metadata": {
            "needs_background": "light"
          }
        }
      ]
    },
    {
      "cell_type": "code",
      "source": [
        "def my_relu(x: torch.Tensor) -> torch.Tensor:\n",
        "  return torch.maximum(torch.tensor(0), x)\n",
        "\n",
        "my_relu_A = my_relu(A)\n"
      ],
      "metadata": {
        "id": "xaifwA_KVfsK"
      },
      "execution_count": 17,
      "outputs": []
    },
    {
      "cell_type": "code",
      "source": [
        "plt.plot(my_relu_A)"
      ],
      "metadata": {
        "colab": {
          "base_uri": "https://localhost:8080/",
          "height": 283
        },
        "id": "Dt6Asm8mWLHg",
        "outputId": "e22c963f-5d30-4c5b-d080-85a2243b27e3"
      },
      "execution_count": 18,
      "outputs": [
        {
          "output_type": "execute_result",
          "data": {
            "text/plain": [
              "[<matplotlib.lines.Line2D at 0x7f2d2bd04bb0>]"
            ]
          },
          "metadata": {},
          "execution_count": 18
        },
        {
          "output_type": "display_data",
          "data": {
            "text/plain": [
              "<Figure size 432x288 with 1 Axes>"
            ],
            "image/png": "[encoded data removed]"
          },
          "metadata": {
            "needs_background": "light"
          }
        }
      ]
    },
    {
      "cell_type": "code",
      "source": [
        "def my_sigmoid(x: torch.Tensor) -> torch.Tensor:\n",
        "  return 1/(1+ torch.exp(-x))\n",
        "\n",
        "my_sigmoid_A = my_sigmoid(A)\n"
      ],
      "metadata": {
        "id": "kxaIrDlYVv38"
      },
      "execution_count": 19,
      "outputs": []
    },
    {
      "cell_type": "code",
      "source": [
        "plt.plot(my_sigmoid_A)"
      ],
      "metadata": {
        "colab": {
          "base_uri": "https://localhost:8080/",
          "height": 283
        },
        "id": "DDj4qfNxWOUh",
        "outputId": "9a611757-e8e5-4710-8d48-d0eaadd1801d"
      },
      "execution_count": 20,
      "outputs": [
        {
          "output_type": "execute_result",
          "data": {
            "text/plain": [
              "[<matplotlib.lines.Line2D at 0x7f2d2bd87b80>]"
            ]
          },
          "metadata": {},
          "execution_count": 20
        },
        {
          "output_type": "display_data",
          "data": {
            "text/plain": [
              "<Figure size 432x288 with 1 Axes>"
            ],
            "image/png": "[encoded data removed]"
          },
          "metadata": {
            "needs_background": "light"
          }
        }
      ]
    },
    {
      "cell_type": "code",
      "source": [],
      "metadata": {
        "id": "HRhCFoR4WSs_"
      },
      "execution_count": 20,
      "outputs": []
    }
  ]
}